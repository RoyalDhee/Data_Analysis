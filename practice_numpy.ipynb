{
 "cells": [
  {
   "cell_type": "markdown",
   "id": "dffb2531",
   "metadata": {},
   "source": [
    "# Understanding Numpy"
   ]
  },
  {
   "cell_type": "code",
   "execution_count": 4,
   "id": "59d55f1e",
   "metadata": {},
   "outputs": [
    {
     "name": "stdout",
     "output_type": "stream",
     "text": [
      "NumPy version: 2.3.2\n"
     ]
    }
   ],
   "source": [
    "# import all necessary libraries\n",
    "import numpy as np\n",
    "import matplotlib.pyplot as plt\n",
    "import time\n",
    "\n",
    "# Check NumPy version\n",
    "print(f\"NumPy version: {np.__version__}\")\n",
    "\n",
    "# Display settings for cleaner output\n",
    "np.set_printoptions(precision=3, suppress=True)\n"
   ]
  },
  {
   "cell_type": "markdown",
   "id": "4be4b1f7",
   "metadata": {},
   "source": [
    "### Creating Numpy Arrays"
   ]
  },
  {
   "cell_type": "code",
   "execution_count": 10,
   "id": "77f9e8ac",
   "metadata": {},
   "outputs": [
    {
     "name": "stdout",
     "output_type": "stream",
     "text": [
      "1D array: [1 2 3 4 5]\n",
      "2D array: [[1 2 3]\n",
      " [4 5 6]]\n",
      "3D array: \n",
      " [[[1 2]\n",
      "  [3 4]]\n",
      "\n",
      " [[5 6]\n",
      "  [7 8]]]\n"
     ]
    }
   ],
   "source": [
    "# Creating arrays from python lists\n",
    "# 1D array: A simple sequence of numbers\n",
    "arr1d = np.array([1, 2, 3, 4, 5])\n",
    "\n",
    "# 2D array: Think of this as a matrix or table with rows and columns\n",
    "arr2d = np.array([[1, 2, 3],\n",
    "                  [4, 5, 6]])\n",
    "\n",
    "#3D array: Like a stack of 2D arrays - useful for images, time series etc\n",
    "arr3d = np.array([[[1, 2], [3, 4]],\n",
    "                  [[5, 6], [7, 8]]])\n",
    "\n",
    "print(\"1D array:\", arr1d)\n",
    "print(\"2D array:\", arr2d)\n",
    "print(\"3D array: \\n\", arr3d)\n"
   ]
  },
  {
   "cell_type": "markdown",
   "id": "7af79980",
   "metadata": {},
   "source": [
    "#### Creating Special Arrays in Numpy"
   ]
  },
  {
   "cell_type": "code",
   "execution_count": null,
   "id": "10f46621",
   "metadata": {},
   "outputs": [
    {
     "name": "stdout",
     "output_type": "stream",
     "text": [
      "Zeroes array (3x4): \n",
      " [[0. 0. 0. 0.]\n",
      " [0. 0. 0. 0.]\n",
      " [0. 0. 0. 0.]]\n",
      "Ones array shape: [[[1. 1. 1. 1.]\n",
      "  [1. 1. 1. 1.]\n",
      "  [1. 1. 1. 1.]]\n",
      "\n",
      " [[1. 1. 1. 1.]\n",
      "  [1. 1. 1. 1.]\n",
      "  [1. 1. 1. 1.]]]\n",
      "Empty array (contains random values): \n",
      " [[[0. 0.]\n",
      "  [0. 0.]]\n",
      "\n",
      " [[0. 0.]\n",
      "  [0. 0.]]\n",
      "\n",
      " [[0. 0.]\n",
      "  [0. 0.]]]\n"
     ]
    }
   ],
   "source": [
    "# Creating arrays filled with zeroes - useful for initializing arrays\n",
    "#Shape (3, 4) means 3 rows and 4 columns\n",
    "zeros = np.zeros((3, 4))\n",
    "\n",
    "# Creating arrays filled with ones - often used a sstarting points\n",
    "ones = np.ones((2, 3, 4))       #3D array: 2 layers, 3 rows, 4 columns\n",
    "\n",
    "# Empty array - faster than zeroes/ones but contain random values\n",
    "#use when you'll immediately fill the array with real data\n",
    "empty = np.empty((2, 2))\n",
    "\n",
    "print(\"Zeroes array (3x4): \\n\", zeros)\n",
    "print(\"Ones array shape:\", ones)\n",
    "print(\"Empty array (contains random values): \\n\", empty)\n"
   ]
  },
  {
   "cell_type": "markdown",
   "id": "8d9a3928",
   "metadata": {},
   "source": [
    "##### Range arrays"
   ]
  },
  {
   "cell_type": "code",
   "execution_count": 19,
   "id": "294680c0",
   "metadata": {},
   "outputs": [
    {
     "name": "stdout",
     "output_type": "stream",
     "text": [
      "Range array: [0 2 4 6 8]\n",
      "Linespace array: [0.   0.75 1.5  2.25 3.  ]\n",
      "Logspace array: [  1.      3.162  10.     31.623 100.   ]\n"
     ]
    }
   ],
   "source": [
    "# Range arrays - like python's range () but more powerful\n",
    "range_arr = np.arange(0, 10, 2) #start, stop, step: [0, 2, 4, 6, 8]\n",
    "print(\"Range array:\", range_arr)\n",
    "\n",
    "# Linearly spaced arrays - divide a range into equal parts\n",
    "# From 0 to 1 with exactly 5 points including endpoints\n",
    "linespace_arr = np.linspace(0, 3, 5)\n",
    "print(\"Linespace array:\", linespace_arr)\n",
    "\n",
    "# Logarithmically spaced arrays - useful for scientific data\n",
    "# From 10^0 to 10^2 (1 to 100) with 5 points\n",
    "logspace_arr = np.logspace(0, 2, 5)\n",
    "print(\"Logspace array:\", logspace_arr)"
   ]
  },
  {
   "cell_type": "code",
   "execution_count": 23,
   "id": "7afe3735",
   "metadata": {},
   "outputs": [
    {
     "name": "stdout",
     "output_type": "stream",
     "text": [
      "Identity matrix: \n",
      " [[1. 0. 0. 0.]\n",
      " [0. 1. 0. 0.]\n",
      " [0. 0. 1. 0.]\n",
      " [0. 0. 0. 1.]]\n",
      "Diagonal matrix: \n",
      " [[1 0 0 0]\n",
      " [0 2 0 0]\n",
      " [0 0 3 0]\n",
      " [0 0 0 4]]\n",
      "Full array (Filled with 7): \n",
      " [[7 7 7]\n",
      " [7 7 7]\n",
      " [7 7 7]]\n"
     ]
    }
   ],
   "source": [
    "# Identity matrix - diagonal of ones and zeroes elsewhere\n",
    "# Essential for linear algebra operations\n",
    "identity = np.eye(4)        #4x4 identity matrix\n",
    "\n",
    "# Diagonal matrix - put values on the diagonal\n",
    "diagonal = np.diag([1, 2, 3, 4])\n",
    "\n",
    "# Array filled with a specific value\n",
    "full_arr = np.full((3, 3), 7)       #3x3 array filled with 7\n",
    "\n",
    "print(\"Identity matrix: \\n\", identity)\n",
    "print(\"Diagonal matrix: \\n\", diagonal)\n",
    "print(\"Full array (Filled with 7): \\n\", full_arr)"
   ]
  },
  {
   "cell_type": "markdown",
   "id": "5b396dca",
   "metadata": {},
   "source": [
    "### Numpy Data Types (dtypes)"
   ]
  },
  {
   "cell_type": "code",
   "execution_count": 30,
   "id": "e31e40f8",
   "metadata": {},
   "outputs": [
    {
     "name": "stdout",
     "output_type": "stream",
     "text": [
      "Integer array dtype: int32\n",
      "Float array dtype: float64\n",
      "Boolean array dtype: bool\n",
      "Converted array dtype: float32\n",
      "int32 uses 4 bytes per element\n",
      "Float64 uses 8 bytes per element\n"
     ]
    }
   ],
   "source": [
    "# Explicit data types - control memory usage and precision\n",
    "int_arr = np.array([1, 2, 3], dtype=np.int32)               #32-bit integers\n",
    "float_arr = np.array([1, 2, 3], dtype=np.float64)           # 64-bit floats (double precision)\n",
    "bool_arr = np.array([True, False, True], dtype=np.bool)     # Boolean  values\n",
    "\n",
    "# Type conversion - change dtype of existing array\n",
    "converted = int_arr.astype(np.float32)          #Convert to 32-bit\n",
    "\n",
    "print(\"Integer array dtype:\", int_arr.dtype)\n",
    "print(\"Float array dtype:\", float_arr.dtype)\n",
    "print(\"Boolean array dtype:\", bool_arr.dtype)\n",
    "print(\"Converted array dtype:\", converted.dtype)\n",
    "\n",
    "# Memory usage comparison\n",
    "print(f\"int32 uses {int_arr.itemsize} bytes per element\")\n",
    "print(f\"Float64 uses {float_arr.itemsize} bytes per element\")"
   ]
  },
  {
   "cell_type": "markdown",
   "id": "73d3b646",
   "metadata": {},
   "source": [
    "### Array Properties and Attributes"
   ]
  },
  {
   "cell_type": "code",
   "execution_count": 37,
   "id": "0a9cbf7a",
   "metadata": {},
   "outputs": [
    {
     "name": "stdout",
     "output_type": "stream",
     "text": [
      "Shape: (3, 4, 5)\n",
      "Size: 60\n",
      "Ndim: 3\n",
      "Dtype: float64\n",
      "Itemsize: 8\n",
      "memory usage: 480 bytes\n",
      "memory usage: 0.46875 KB\n"
     ]
    }
   ],
   "source": [
    "# Create a sample 3D array for demonstration\n",
    "# Think of this as 3 layers, each with 4 rows and 5 columns\n",
    "arr = np.random.randn(3, 4, 5)\n",
    "\n",
    "# Shape: The dimensions of the array (layers, rows, columns)\n",
    "print(\"Shape:\", arr.shape)\n",
    "\n",
    "# Size: Total number of elements (3 x 4 x 5 = 60)\n",
    "print(\"Size:\", arr.size)\n",
    "\n",
    "# Ndim: Number of dimensions (3D in this case)\n",
    "print(\"Ndim:\", arr.ndim)\n",
    "\n",
    "# Dtype: Data type of elements\n",
    "print(\"Dtype:\", arr.dtype)  #Usually float 64 for random numbers\n",
    "\n",
    "# Itemsize: Memory size of each element in bytes\n",
    "print(\"Itemsize:\", arr.itemsize)        # 8 bytes for float 64\n",
    "\n",
    "# Total memory usage in bytes\n",
    "print(\"memory usage:\", arr.nbytes, \"bytes\")     # size x itemsize\n",
    "print(\"memory usage:\", arr.nbytes / 1024, \"KB\") #Convert to KB"
   ]
  },
  {
   "cell_type": "markdown",
   "id": "7e90e6a4",
   "metadata": {},
   "source": [
    "### Array Indexing & Slicing"
   ]
  },
  {
   "cell_type": "code",
   "execution_count": 39,
   "id": "e1c9bf3d",
   "metadata": {},
   "outputs": [
    {
     "name": "stdout",
     "output_type": "stream",
     "text": [
      "first element: 10\n",
      "last element: 50\n",
      "slice [1:4]: [20 30 40]\n",
      "Every 2nd element: [10 30 50]\n"
     ]
    }
   ],
   "source": [
    "# 1D array indexing - similar to python lists\n",
    "arr1d = np.array([10, 20, 30, 40, 50])\n",
    "\n",
    "print(\"first element:\", arr1d[0])           # Index 0: 10\n",
    "print(\"last element:\", arr1d[-1])           # Negative indexing: 50\n",
    "print(\"slice [1:4]:\", arr1d[1:4])           # Elements 1, 2, 3: [20, 30, 40]\n",
    "print(\"Every 2nd element:\", arr1d[::2])     # Step of 2: [10, 30, 50]\n"
   ]
  },
  {
   "cell_type": "code",
   "execution_count": 43,
   "id": "b2dbdadf",
   "metadata": {},
   "outputs": [
    {
     "name": "stdout",
     "output_type": "stream",
     "text": [
      "Element at row 1, colums 2: 7\n",
      "First row: [1 2 3 4]\n",
      "Second column: [ 2  6 10]\n",
      "Subarray (rows 1-2, cols 1-2):\n",
      " [[ 6  7]\n",
      " [10 11]]\n"
     ]
    }
   ],
   "source": [
    "# 2D array indexing = row and column access\n",
    "arr2d = np.array([[1, 2, 3, 4],\n",
    "                  [5, 6, 7, 8],\n",
    "                  [9, 10, 11, 12]])\n",
    "\n",
    "# Access specific element: [row, column]\n",
    "print(\"Element at row 1, colums 2:\", arr2d[1, 2])       # 7\n",
    "\n",
    "# Access entire rows or columns\n",
    "print(\"First row:\", arr2d[0, :])        # All columns fo row 0\n",
    "print(\"Second column:\", arr2d[:, 1])    # All rows of column 1\n",
    "\n",
    "# Subarray slicing: [row_start:row_end, col_start:col_end]\n",
    "print(\"Subarray (rows 1-2, cols 1-2):\\n\", arr2d[1:3, 1:3])"
   ]
  },
  {
   "cell_type": "markdown",
   "id": "decd9a1f",
   "metadata": {},
   "source": [
    "### Advanced Indexing - Powerful selection methods"
   ]
  },
  {
   "cell_type": "code",
   "execution_count": 45,
   "id": "3811b766",
   "metadata": {},
   "outputs": [
    {
     "name": "stdout",
     "output_type": "stream",
     "text": [
      "Fancy indexing: [10 30 50]\n",
      "Random order: [50 20 40 20]\n"
     ]
    }
   ],
   "source": [
    "# Fancy indexing - use arrays of indices to select elements\n",
    "arr = np.array([10, 20, 30, 40, 50])\n",
    "indices = np.array([0, 2, 4]) # Select elements at positions 0, 2, 4\n",
    "print(\"Fancy indexing:\", arr[indices])\n",
    "\n",
    "# This is much more flexible than simple slicing\n",
    "random_indices = np.array([4, 1, 3, 1]) #   Can repeat and reorder\n",
    "print(\"Random order:\", arr[random_indices]) # [50, 20, 40, 20]"
   ]
  },
  {
   "cell_type": "code",
   "execution_count": null,
   "id": "108e1701",
   "metadata": {},
   "outputs": [],
   "source": [
    "# 2D fancy indexing - select specific row/column combinations\n",
    "arr2d = np.arange(12).reshape(3, 4)  # 3x4 array: [[0,1,2,3], [4,5,6,7], [8,9,10,11]]\n",
    "print(\"Original 2D array:\\n\", arr2d)\n",
    "\n",
    "# Select elements at (row, col) pairs: (0,1) and (2,3)\n",
    "rows = np.array([0, 2])\n",
    "cols = np.array([1, 3])\n",
    "print(\"Elements at (0,1) and (2,3):\", arr2d[rows, cols])  # [1, 11]\n",
    "\n",
    "# Select entire rows using fancy indexing\n",
    "selected_rows = arr2d[[0, 2], :]  # Rows 0 and 2, all columns\n",
    "print(\"Selected rows:\\n\", selected_rows)"
   ]
  }
 ],
 "metadata": {
  "kernelspec": {
   "display_name": "data_analysisenv",
   "language": "python",
   "name": "python3"
  },
  "language_info": {
   "codemirror_mode": {
    "name": "ipython",
    "version": 3
   },
   "file_extension": ".py",
   "mimetype": "text/x-python",
   "name": "python",
   "nbconvert_exporter": "python",
   "pygments_lexer": "ipython3",
   "version": "3.13.7"
  }
 },
 "nbformat": 4,
 "nbformat_minor": 5
}
